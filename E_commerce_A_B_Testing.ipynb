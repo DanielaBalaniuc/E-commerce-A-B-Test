{
  "nbformat": 4,
  "nbformat_minor": 0,
  "metadata": {
    "colab": {
      "provenance": []
    },
    "kernelspec": {
      "name": "python3",
      "display_name": "Python 3"
    },
    "language_info": {
      "name": "python"
    }
  },
  "cells": [
    {
      "cell_type": "markdown",
      "source": [
        "About this file\n",
        "For this project, you will be working to understand the results of an A/B test run by an e-commerce website. The company has developed a new web page in order to try and increase the number of users who \"convert,\" meaning the number of users who decide to pay for the company's product. Your goal is to work through this notebook to help the company understand if they should implement this new page, keep the old page, or perhaps run the experiment longer to make their decision."
      ],
      "metadata": {
        "id": "n_1_72RrlW4Y"
      }
    },
    {
      "cell_type": "code",
      "source": [
        "# This Python 3 environment comes with many helpful analytics libraries installed\n",
        "# It is defined by the kaggle/python Docker image: https://github.com/kaggle/docker-python\n",
        "# For example, here's several helpful packages to load\n",
        "\n",
        "import numpy as np # linear algebra\n",
        "import pandas as pd # data processing, CSV file I/O (e.g. pd.read_csv)\n",
        "\n",
        "# Input data files are available in the read-only \"../input/\" directory\n",
        "# For example, running this (by clicking run or pressing Shift+Enter) will list all files under the input directory\n",
        "\n",
        "import os\n",
        "for dirname, _, filenames in os.walk('/kaggle/input'):\n",
        "    for filename in filenames:\n",
        "        print(os.path.join(dirname, filename))\n",
        "\n",
        "# You can write up to 20GB to the current directory (/kaggle/working/) that gets preserved as output when you create a version using \"Save & Run All\"\n",
        "# You can also write temporary files to /kaggle/temp/, but they won't be saved outside of the current session"
      ],
      "metadata": {
        "id": "RK_8b12mafmT"
      },
      "execution_count": null,
      "outputs": []
    },
    {
      "cell_type": "code",
      "source": [
        "import pandas as pd\n",
        "import numpy as np\n",
        "import matplotlib.pyplot as plt\n",
        "import scipy.stats as stats"
      ],
      "metadata": {
        "id": "pNadTSr2andy"
      },
      "execution_count": null,
      "outputs": []
    },
    {
      "cell_type": "code",
      "source": [
        "import pandas as pd\n",
        "\n",
        "# read in the ab_test.csv file\n",
        "ab_test = pd.read_csv('/content/ab_test.csv')\n",
        "\n",
        "# read in the countries_ab.csv file\n",
        "countries = pd.read_csv('/content/countries_ab.csv')\n",
        "\n",
        "# merge the two files on the id field\n",
        "data = pd.merge(ab_test, countries, on='id')\n",
        "\n",
        "# preview the merged data\n",
        "print(data.head())"
      ],
      "metadata": {
        "colab": {
          "base_uri": "https://localhost:8080/"
        },
        "id": "LGRMafxLavG4",
        "outputId": "c0f6d094-a8df-4aa9-80b4-69cf1519dd2e"
      },
      "execution_count": null,
      "outputs": [
        {
          "output_type": "stream",
          "name": "stdout",
          "text": [
            "       id     time  con_treat      page  converted country\n",
            "0  851104  11:48.6    control  old_page          0      US\n",
            "1  804228  01:45.2    control  old_page          0      US\n",
            "2  661590  55:06.2  treatment  new_page          0      US\n",
            "3  853541  28:03.1  treatment  new_page          0      US\n",
            "4  864975  52:26.2    control  old_page          1      US\n"
          ]
        }
      ]
    },
    {
      "cell_type": "code",
      "source": [
        "# create a histogram of user IDs by country\n",
        "plt.hist(data['country'])\n",
        "plt.title('User IDs by Country')\n",
        "plt.xlabel('Country')\n",
        "plt.ylabel('Count')\n",
        "for i, country in enumerate(data['country'].unique()):\n",
        "    count = data[data['country'] == country]['id'].count()\n",
        "    plt.text(i, count + 10, str(count), ha='center', va='bottom')\n",
        "plt.show()"
      ],
      "metadata": {
        "colab": {
          "base_uri": "https://localhost:8080/",
          "height": 472
        },
        "id": "Yw0x6D6ZbIbV",
        "outputId": "00327c7b-3898-4f28-97c8-f0dd54d25cc1"
      },
      "execution_count": null,
      "outputs": [
        {
          "output_type": "display_data",
          "data": {
            "text/plain": [
              "<Figure size 640x480 with 1 Axes>"
            ],
            "image/png": "[encoded data removed]"
          },
          "metadata": {}
        }
      ]
    },
    {
      "cell_type": "code",
      "source": [
        "data.head()"
      ],
      "metadata": {
        "colab": {
          "base_uri": "https://localhost:8080/",
          "height": 206
        },
        "id": "_a5AWtJOboK3",
        "outputId": "fb0549b8-8ab4-4025-a161-c98324273a43"
      },
      "execution_count": null,
      "outputs": [
        {
          "output_type": "execute_result",
          "data": {
            "text/plain": [
              "       id     time  con_treat      page  converted country\n",
              "0  851104  11:48.6    control  old_page          0      US\n",
              "1  804228  01:45.2    control  old_page          0      US\n",
              "2  661590  55:06.2  treatment  new_page          0      US\n",
              "3  853541  28:03.1  treatment  new_page          0      US\n",
              "4  864975  52:26.2    control  old_page          1      US"
            ],
            "text/html": [
              "\n",
              "  <div id=\"df-e61665ed-7edb-424d-8167-056bb090c330\" class=\"colab-df-container\">\n",
              "    <div>\n",
              "<style scoped>\n",
              "    .dataframe tbody tr th:only-of-type {\n",
              "        vertical-align: middle;\n",
              "    }\n",
              "\n",
              "    .dataframe tbody tr th {\n",
              "        vertical-align: top;\n",
              "    }\n",
              "\n",
              "    .dataframe thead th {\n",
              "        text-align: right;\n",
              "    }\n",
              "</style>\n",
              "<table border=\"1\" class=\"dataframe\">\n",
              "  <thead>\n",
              "    <tr style=\"text-align: right;\">\n",
              "      <th></th>\n",
              "      <th>id</th>\n",
              "      <th>time</th>\n",
              "      <th>con_treat</th>\n",
              "      <th>page</th>\n",
              "      <th>converted</th>\n",
              "      <th>country</th>\n",
              "    </tr>\n",
              "  </thead>\n",
              "  <tbody>\n",
              "    <tr>\n",
              "      <th>0</th>\n",
              "      <td>851104</td>\n",
              "      <td>11:48.6</td>\n",
              "      <td>control</td>\n",
              "      <td>old_page</td>\n",
              "      <td>0</td>\n",
              "      <td>US</td>\n",
              "    </tr>\n",
              "    <tr>\n",
              "      <th>1</th>\n",
              "      <td>804228</td>\n",
              "      <td>01:45.2</td>\n",
              "      <td>control</td>\n",
              "      <td>old_page</td>\n",
              "      <td>0</td>\n",
              "      <td>US</td>\n",
              "    </tr>\n",
              "    <tr>\n",
              "      <th>2</th>\n",
              "      <td>661590</td>\n",
              "      <td>55:06.2</td>\n",
              "      <td>treatment</td>\n",
              "      <td>new_page</td>\n",
              "      <td>0</td>\n",
              "      <td>US</td>\n",
              "    </tr>\n",
              "    <tr>\n",
              "      <th>3</th>\n",
              "      <td>853541</td>\n",
              "      <td>28:03.1</td>\n",
              "      <td>treatment</td>\n",
              "      <td>new_page</td>\n",
              "      <td>0</td>\n",
              "      <td>US</td>\n",
              "    </tr>\n",
              "    <tr>\n",
              "      <th>4</th>\n",
              "      <td>864975</td>\n",
              "      <td>52:26.2</td>\n",
              "      <td>control</td>\n",
              "      <td>old_page</td>\n",
              "      <td>1</td>\n",
              "      <td>US</td>\n",
              "    </tr>\n",
              "  </tbody>\n",
              "</table>\n",
              "</div>\n",
              "    <div class=\"colab-df-buttons\">\n",
              "\n",
              "  <div class=\"colab-df-container\">\n",
              "    <button class=\"colab-df-convert\" onclick=\"convertToInteractive('df-e61665ed-7edb-424d-8167-056bb090c330')\"\n",
              "            title=\"Convert this dataframe to an interactive table.\"\n",
              "            style=\"display:none;\">\n",
              "\n",
              "  <svg xmlns=\"http://www.w3.org/2000/svg\" height=\"24px\" viewBox=\"0 -960 960 960\">\n",
              "    <path d=\"M120-120v-720h720v720H120Zm60-500h600v-160H180v160Zm220 220h160v-160H400v160Zm0 220h160v-160H400v160ZM180-400h160v-160H180v160Zm440 0h160v-160H620v160ZM180-180h160v-160H180v160Zm440 0h160v-160H620v160Z\"/>\n",
              "  </svg>\n",
              "    </button>\n",
              "\n",
              "  <style>\n",
              "    .colab-df-container {\n",
              "      display:flex;\n",
              "      gap: 12px;\n",
              "    }\n",
              "\n",
              "    .colab-df-convert {\n",
              "      background-color: #E8F0FE;\n",
              "      border: none;\n",
              "      border-radius: 50%;\n",
              "      cursor: pointer;\n",
              "      display: none;\n",
              "      fill: #1967D2;\n",
              "      height: 32px;\n",
              "      padding: 0 0 0 0;\n",
              "      width: 32px;\n",
              "    }\n",
              "\n",
              "    .colab-df-convert:hover {\n",
              "      background-color: #E2EBFA;\n",
              "      box-shadow: 0px 1px 2px rgba(60, 64, 67, 0.3), 0px 1px 3px 1px rgba(60, 64, 67, 0.15);\n",
              "      fill: #174EA6;\n",
              "    }\n",
              "\n",
              "    .colab-df-buttons div {\n",
              "      margin-bottom: 4px;\n",
              "    }\n",
              "\n",
              "    [theme=dark] .colab-df-convert {\n",
              "      background-color: #3B4455;\n",
              "      fill: #D2E3FC;\n",
              "    }\n",
              "\n",
              "    [theme=dark] .colab-df-convert:hover {\n",
              "      background-color: #434B5C;\n",
              "      box-shadow: 0px 1px 3px 1px rgba(0, 0, 0, 0.15);\n",
              "      filter: drop-shadow(0px 1px 2px rgba(0, 0, 0, 0.3));\n",
              "      fill: #FFFFFF;\n",
              "    }\n",
              "  </style>\n",
              "\n",
              "    <script>\n",
              "      const buttonEl =\n",
              "        document.querySelector('#df-e61665ed-7edb-424d-8167-056bb090c330 button.colab-df-convert');\n",
              "      buttonEl.style.display =\n",
              "        google.colab.kernel.accessAllowed ? 'block' : 'none';\n",
              "\n",
              "      async function convertToInteractive(key) {\n",
              "        const element = document.querySelector('#df-e61665ed-7edb-424d-8167-056bb090c330');\n",
              "        const dataTable =\n",
              "          await google.colab.kernel.invokeFunction('convertToInteractive',\n",
              "                                                    [key], {});\n",
              "        if (!dataTable) return;\n",
              "\n",
              "        const docLinkHtml = 'Like what you see? Visit the ' +\n",
              "          '<a target=\"_blank\" href=https://colab.research.google.com/notebooks/data_table.ipynb>data table notebook</a>'\n",
              "          + ' to learn more about interactive tables.';\n",
              "        element.innerHTML = '';\n",
              "        dataTable['output_type'] = 'display_data';\n",
              "        await google.colab.output.renderOutput(dataTable, element);\n",
              "        const docLink = document.createElement('div');\n",
              "        docLink.innerHTML = docLinkHtml;\n",
              "        element.appendChild(docLink);\n",
              "      }\n",
              "    </script>\n",
              "  </div>\n",
              "\n",
              "\n",
              "<div id=\"df-6f4867a3-d5d9-4ed9-a0a0-51159063bcdc\">\n",
              "  <button class=\"colab-df-quickchart\" onclick=\"quickchart('df-6f4867a3-d5d9-4ed9-a0a0-51159063bcdc')\"\n",
              "            title=\"Suggest charts\"\n",
              "            style=\"display:none;\">\n",
              "\n",
              "<svg xmlns=\"http://www.w3.org/2000/svg\" height=\"24px\"viewBox=\"0 0 24 24\"\n",
              "     width=\"24px\">\n",
              "    <g>\n",
              "        <path d=\"M19 3H5c-1.1 0-2 .9-2 2v14c0 1.1.9 2 2 2h14c1.1 0 2-.9 2-2V5c0-1.1-.9-2-2-2zM9 17H7v-7h2v7zm4 0h-2V7h2v10zm4 0h-2v-4h2v4z\"/>\n",
              "    </g>\n",
              "</svg>\n",
              "  </button>\n",
              "\n",
              "<style>\n",
              "  .colab-df-quickchart {\n",
              "      --bg-color: #E8F0FE;\n",
              "      --fill-color: #1967D2;\n",
              "      --hover-bg-color: #E2EBFA;\n",
              "      --hover-fill-color: #174EA6;\n",
              "      --disabled-fill-color: #AAA;\n",
              "      --disabled-bg-color: #DDD;\n",
              "  }\n",
              "\n",
              "  [theme=dark] .colab-df-quickchart {\n",
              "      --bg-color: #3B4455;\n",
              "      --fill-color: #D2E3FC;\n",
              "      --hover-bg-color: #434B5C;\n",
              "      --hover-fill-color: #FFFFFF;\n",
              "      --disabled-bg-color: #3B4455;\n",
              "      --disabled-fill-color: #666;\n",
              "  }\n",
              "\n",
              "  .colab-df-quickchart {\n",
              "    background-color: var(--bg-color);\n",
              "    border: none;\n",
              "    border-radius: 50%;\n",
              "    cursor: pointer;\n",
              "    display: none;\n",
              "    fill: var(--fill-color);\n",
              "    height: 32px;\n",
              "    padding: 0;\n",
              "    width: 32px;\n",
              "  }\n",
              "\n",
              "  .colab-df-quickchart:hover {\n",
              "    background-color: var(--hover-bg-color);\n",
              "    box-shadow: 0 1px 2px rgba(60, 64, 67, 0.3), 0 1px 3px 1px rgba(60, 64, 67, 0.15);\n",
              "    fill: var(--button-hover-fill-color);\n",
              "  }\n",
              "\n",
              "  .colab-df-quickchart-complete:disabled,\n",
              "  .colab-df-quickchart-complete:disabled:hover {\n",
              "    background-color: var(--disabled-bg-color);\n",
              "    fill: var(--disabled-fill-color);\n",
              "    box-shadow: none;\n",
              "  }\n",
              "\n",
              "  .colab-df-spinner {\n",
              "    border: 2px solid var(--fill-color);\n",
              "    border-color: transparent;\n",
              "    border-bottom-color: var(--fill-color);\n",
              "    animation:\n",
              "      spin 1s steps(1) infinite;\n",
              "  }\n",
              "\n",
              "  @keyframes spin {\n",
              "    0% {\n",
              "      border-color: transparent;\n",
              "      border-bottom-color: var(--fill-color);\n",
              "      border-left-color: var(--fill-color);\n",
              "    }\n",
              "    20% {\n",
              "      border-color: transparent;\n",
              "      border-left-color: var(--fill-color);\n",
              "      border-top-color: var(--fill-color);\n",
              "    }\n",
              "    30% {\n",
              "      border-color: transparent;\n",
              "      border-left-color: var(--fill-color);\n",
              "      border-top-color: var(--fill-color);\n",
              "      border-right-color: var(--fill-color);\n",
              "    }\n",
              "    40% {\n",
              "      border-color: transparent;\n",
              "      border-right-color: var(--fill-color);\n",
              "      border-top-color: var(--fill-color);\n",
              "    }\n",
              "    60% {\n",
              "      border-color: transparent;\n",
              "      border-right-color: var(--fill-color);\n",
              "    }\n",
              "    80% {\n",
              "      border-color: transparent;\n",
              "      border-right-color: var(--fill-color);\n",
              "      border-bottom-color: var(--fill-color);\n",
              "    }\n",
              "    90% {\n",
              "      border-color: transparent;\n",
              "      border-bottom-color: var(--fill-color);\n",
              "    }\n",
              "  }\n",
              "</style>\n",
              "\n",
              "  <script>\n",
              "    async function quickchart(key) {\n",
              "      const quickchartButtonEl =\n",
              "        document.querySelector('#' + key + ' button');\n",
              "      quickchartButtonEl.disabled = true;  // To prevent multiple clicks.\n",
              "      quickchartButtonEl.classList.add('colab-df-spinner');\n",
              "      try {\n",
              "        const charts = await google.colab.kernel.invokeFunction(\n",
              "            'suggestCharts', [key], {});\n",
              "      } catch (error) {\n",
              "        console.error('Error during call to suggestCharts:', error);\n",
              "      }\n",
              "      quickchartButtonEl.classList.remove('colab-df-spinner');\n",
              "      quickchartButtonEl.classList.add('colab-df-quickchart-complete');\n",
              "    }\n",
              "    (() => {\n",
              "      let quickchartButtonEl =\n",
              "        document.querySelector('#df-6f4867a3-d5d9-4ed9-a0a0-51159063bcdc button');\n",
              "      quickchartButtonEl.style.display =\n",
              "        google.colab.kernel.accessAllowed ? 'block' : 'none';\n",
              "    })();\n",
              "  </script>\n",
              "</div>\n",
              "\n",
              "    </div>\n",
              "  </div>\n"
            ],
            "application/vnd.google.colaboratory.intrinsic+json": {
              "type": "dataframe",
              "variable_name": "data"
            }
          },
          "metadata": {},
          "execution_count": 6
        }
      ]
    },
    {
      "cell_type": "code",
      "source": [
        "# group the data by con_treat and calculate the conversion rates for each group\n",
        "con_treat_data = data.groupby('con_treat')['converted'].mean()\n",
        "# calculate the conversion rates for each group\n",
        "control_rate = control['converted'].mean()\n",
        "treatment_rate = treatment['converted'].mean()\n",
        "\n",
        "# create a bar chart of the conversion rates\n",
        "plt.bar(['Control', 'Treatment'], [control_rate, treatment_rate])\n",
        "plt.title('Conversion Rates by Group')\n",
        "plt.ylabel('Conversion Rate')\n",
        "plt.ylim(0, 0.15)\n",
        "plt.text(0, control_rate + 0.01, f'{control_rate:.4f}')\n",
        "plt.text(1, treatment_rate + 0.01, f'{treatment_rate:.4f}')\n",
        "plt.show()"
      ],
      "metadata": {
        "colab": {
          "base_uri": "https://localhost:8080/",
          "height": 452
        },
        "id": "1O6kFy0aky5y",
        "outputId": "a4d170ee-ff0b-4071-e758-34a02ba51e99"
      },
      "execution_count": null,
      "outputs": [
        {
          "output_type": "display_data",
          "data": {
            "text/plain": [
              "<Figure size 640x480 with 1 Axes>"
            ],
            "image/png": "[encoded data removed]"
          },
          "metadata": {}
        }
      ]
    },
    {
      "cell_type": "code",
      "source": [
        "# group the data by country and calculate the conversion rates for each group\n",
        "country_data = data.groupby('country')['converted'].mean().reset_index()\n",
        "\n",
        "# create a scatter plot of conversion rates by country\n",
        "plt.scatter(country_data['country'], country_data['converted'])\n",
        "plt.title('Conversion Rates by Country')\n",
        "plt.xlabel('Country')\n",
        "plt.ylabel('Conversion Rate')\n",
        "plt.ylim(0, 0.15)\n",
        "for i, row in country_data.iterrows():\n",
        "    plt.text(row['country'], row['converted'] + 0.005, f'{row[\"converted\"]:.3f}', ha='center', va='bottom')\n",
        "plt.show()"
      ],
      "metadata": {
        "colab": {
          "base_uri": "https://localhost:8080/",
          "height": 472
        },
        "id": "g8m0s9nijG9E",
        "outputId": "fd7c1494-45a1-40c9-ae13-7ead3c27d813"
      },
      "execution_count": null,
      "outputs": [
        {
          "output_type": "display_data",
          "data": {
            "text/plain": [
              "<Figure size 640x480 with 1 Axes>"
            ],
            "image/png": "[encoded data removed]"
          },
          "metadata": {}
        }
      ]
    },
    {
      "cell_type": "code",
      "source": [
        "# split the data into control and treatment groups\n",
        "control = data[data['page'] == 'old_page']\n",
        "treatment = data[data['page'] == 'new_page']\n",
        "\n",
        "# loop through each country and calculate conversion rates\n",
        "for country in data['country'].unique():\n",
        "    # filter the data by country and control/treatment groups\n",
        "    country_control = control[control['country'] == country]['converted']\n",
        "    country_treatment = treatment[treatment['country'] == country]['converted']\n",
        "\n",
        "    # calculate the conversion rates for each group\n",
        "    control_rate = country_control.mean()\n",
        "    treatment_rate = country_treatment.mean()\n",
        "\n",
        "    # conduct a hypothesis test to determine whether the difference in rates is significant\n",
        "    p_value = stats.ttest_ind(country_control, country_treatment)[1]\n",
        "\n",
        "    # print the results\n",
        "    print(f'Country: {country}')\n",
        "    print(f'Control conversion rate: {control_rate:.4f}')\n",
        "    print(f'Treatment conversion rate: {treatment_rate:.4f}')\n",
        "    print(f'P-value: {p_value:.4f}')\n",
        "    if p_value < 0.05:\n",
        "        print('Statistically significant difference\\n')\n",
        "    else:\n",
        "        print('No statistically significant difference\\n')"
      ],
      "metadata": {
        "colab": {
          "base_uri": "https://localhost:8080/"
        },
        "id": "31kfFkg9kNFf",
        "outputId": "d510e6bb-6f21-448f-ae49-32d1d06ea178"
      },
      "execution_count": null,
      "outputs": [
        {
          "output_type": "stream",
          "name": "stdout",
          "text": [
            "Country: US\n",
            "Control conversion rate: 0.1208\n",
            "Treatment conversion rate: 0.1184\n",
            "P-value: 0.0971\n",
            "No statistically significant difference\n",
            "\n",
            "Country: CA\n",
            "Control conversion rate: 0.1193\n",
            "Treatment conversion rate: 0.1125\n",
            "P-value: 0.1946\n",
            "No statistically significant difference\n",
            "\n",
            "Country: UK\n",
            "Control conversion rate: 0.1198\n",
            "Treatment conversion rate: 0.1213\n",
            "P-value: 0.5365\n",
            "No statistically significant difference\n",
            "\n"
          ]
        }
      ]
    },
    {
      "cell_type": "markdown",
      "source": [
        "US: The control conversion rate is 0.1208, meaning that 12.08% of users who saw the old page converted. The treatment conversion rate is 0.1184, meaning that 11.84% of users who saw the new page converted. The p-value is 0.0971, which is not less than 0.05 (the usual significance level), indicating that the difference in conversion rates is not statistically significant. Therefore, we cannot conclude that the new page is more effective than the old page for users in the US.\n",
        "\n",
        "CA: The control conversion rate is 0.1193, meaning that 11.93% of users who saw the old page converted. The treatment conversion rate is 0.1125, meaning that 11.25% of users who saw the new page converted. The p-value is 0.1946, which is not less than 0.05, indicating that the difference in conversion rates is not statistically significant. Therefore, we cannot conclude that the new page is more effective than the old page for users in Canada.\n",
        "\n",
        "UK: The control conversion rate is 0.1198, meaning that 11.98% of users who saw the old page converted. The treatment conversion rate is 0.1213, meaning that 12.13% of users who saw the new page converted. The p-value is 0.5365, which is not less than 0.05, indicating that the difference in conversion rates is not statistically significant. Therefore, we cannot conclude that the new page is more effective than the old page for users in the UK.\n",
        "\n",
        "Overall, based on these results, we cannot conclude that the new page is more effective than the old page for any of the countries in the dataset, as the p-values are not less than 0.05. Therefore, the company should keep the old page or consider running the experiment longer to gather more data."
      ],
      "metadata": {
        "id": "Nvr74BuLkrBb"
      }
    }
  ]
}